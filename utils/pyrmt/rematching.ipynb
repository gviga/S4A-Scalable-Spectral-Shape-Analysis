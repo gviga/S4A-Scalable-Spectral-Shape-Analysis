{
 "cells": [
  {
   "cell_type": "code",
   "execution_count": null,
   "metadata": {},
   "outputs": [],
   "source": [
    "import igl\n",
    "import numpy as np\n",
    "from scipy.io import savemat\n",
    "import os\n",
    "from PyRMT import RMTMesh\n",
    "import sys\n",
    "\n",
    "\n",
    "sys.path.append('../')\n",
    "from visual_utils import *\n",
    "from icp_utils import *\n",
    "\n",
    "#from evaluation import *\n",
    "\n",
    "def visu(vertices):\n",
    "    \n",
    "    \"The function normalizes the values over the vertices\"\n",
    "    \n",
    "    min_coord,max_coord = np.min(vertices,axis=0,keepdims=True),np.max(vertices,axis=0,keepdims=True)\n",
    "    cmap = (vertices-min_coord)/(max_coord-min_coord)\n",
    "    return cmap\n",
    "\n"
   ]
  },
  {
   "cell_type": "code",
   "execution_count": null,
   "metadata": {},
   "outputs": [],
   "source": [
    "from scipy.io import loadmat\n",
    "a=[]\n",
    "PATH_bm = r\"D:\\Make_Galileo_great_again\\data\\giorgio_\\MNI_remesh.mat\"\n",
    "PATH2 = \" D:\\Make_Galileo_great_again\\data\\giorgio_\\bm10.mat \"\n",
    "a.append(loadmat(PATH_bm))\n"
   ]
  },
  {
   "cell_type": "code",
   "execution_count": null,
   "metadata": {},
   "outputs": [],
   "source": [
    "from pyFM.mesh import TriMesh\n",
    "target_re = TriMesh(r'D:\\Make_Galileo_great_again\\data\\giorgio_\\MNI_remesh.off')"
   ]
  },
  {
   "cell_type": "code",
   "execution_count": null,
   "metadata": {},
   "outputs": [],
   "source": [
    "target_re.vertlist.shape"
   ]
  },
  {
   "cell_type": "code",
   "execution_count": null,
   "metadata": {},
   "outputs": [],
   "source": [
    "SamplesDir = r\"D:\\Make_Galileo_great_again\\data\\giorgio_\"\n",
    "\n",
    "N_meshes = 0\n",
    "m_list=[]\n",
    "m_rem_list=[]\n",
    "bm_list=[]\n",
    "\n",
    "for i in range(N_meshes):\n",
    "    v, f = igl.read_triangle_mesh(os.path.join(SamplesDir, fr\"0000{i:02d}_tumoredbrain\\0000{i:02d}_tumoredbrain.off\"))\n",
    "    v = np.asfortranarray(v)\n",
    "    f = np.asfortranarray(f)\n",
    "\n",
    "    m = RMTMesh(v, f)\n",
    "    m.make_manifold()\n",
    "    m_list.append(m)\n",
    "\n",
    "    m_rem = m.remesh(6000)\n",
    "    m_rem.clean_up()\n",
    "    m_rem_list.append(m_rem)\n",
    "\n",
    "    bm = m_rem.baryc_map(v)\n",
    "    bm_list.append(bm)\n",
    "    \n",
    "    igl.write_triangle_mesh(os.path.join(SamplesDir, fr\"00000{i:02d}_tumoredbrain.off\"), m_rem.vertices, m_rem.triangles)\n",
    "\n",
    "v, f = igl.read_triangle_mesh(r\"D:\\Make_Galileo_great_again\\data\\giorgio_\\MNI.off\")\n",
    "v = np.asfortranarray(v)\n",
    "f = np.asfortranarray(f)\n",
    "\n",
    "m = RMTMesh(v, f)\n",
    "m.make_manifold()\n",
    "m_rem = m.remesh(6000)\n",
    "m_rem.clean_up()\n",
    "bm = m_rem.baryc_map(v)\n",
    "igl.write_triangle_mesh(os.path.join(SamplesDir, \"MNI_remesh.off\"), m_rem.vertices, m_rem.triangles)\n",
    "savemat(os.path.join(SamplesDir, \"MNI_remesh.mat\"), {\"U\" : bm})"
   ]
  },
  {
   "cell_type": "code",
   "execution_count": null,
   "metadata": {},
   "outputs": [],
   "source": [
    "from pyFM.mesh import TriMesh\n",
    "\n",
    "m0= TriMesh(m_list[0].vertices, m_list[0].triangles)\n",
    "m0_rem=TriMesh(m_rem_list[0].vertices, m_rem_list[0].triangles)\n",
    "m1 = TriMesh(m_list[1].vertices, m_list[1].triangles)\n",
    "m1_rem = TriMesh(m_rem_list[1].vertices, m_rem_list[1].triangles)\n",
    "m2 = TriMesh(m_list[2].vertices, m_list[2].triangles)\n",
    "m2_rem = TriMesh(m_rem_list[2].vertices, m_rem_list[2].triangles)"
   ]
  },
  {
   "cell_type": "code",
   "execution_count": null,
   "metadata": {},
   "outputs": [],
   "source": [
    "p2p_KNN = knn_query_normals(m0.vertlist, m0_rem.vertlist,\n",
    "                                            m0.vertex_normals, m0_rem.vertex_normals,\n",
    "                                            k_base=20, n_jobs=20, verbose=False)\n",
    "#p2p_KNN = knn_query(meshlist[0].vertlist, meshlist[1].vertlist)"
   ]
  },
  {
   "cell_type": "code",
   "execution_count": null,
   "metadata": {},
   "outputs": [],
   "source": [
    "plot_mesh(m0, color=np.mean(m0.vertices,axis=1))\n",
    "plot_mesh(m0_rem, color=np.mean(m0.vertices,axis=1)[p2p_KNN])"
   ]
  },
  {
   "cell_type": "markdown",
   "metadata": {},
   "source": [
    "KNN"
   ]
  },
  {
   "cell_type": "code",
   "execution_count": null,
   "metadata": {},
   "outputs": [],
   "source": [
    "p2p_KNN = knn_query_normals(m0.vertlist, m0_rem.vertlist,\n",
    "                                            m0.vertex_normals, m0_rem.vertex_normals,\n",
    "                                            k_base=20, n_jobs=20, verbose=False)\n",
    "#p2p_KNN = knn_query(meshlist[0].vertlist, meshlist[1].vertlist)"
   ]
  },
  {
   "cell_type": "code",
   "execution_count": null,
   "metadata": {},
   "outputs": [],
   "source": [
    "\n",
    "p2p_KNN = knn_query(m0_rem.vertlist, m1_rem.vertlist)"
   ]
  },
  {
   "cell_type": "code",
   "execution_count": null,
   "metadata": {},
   "outputs": [],
   "source": [
    "plot_mesh(m0_rem, color=np.mean(m0_rem.vertices,axis=1))\n",
    "plot_mesh(m1_rem, color=np.mean(m0_rem.vertices,axis=1)[p2p_KNN])"
   ]
  },
  {
   "cell_type": "code",
   "execution_count": null,
   "metadata": {},
   "outputs": [],
   "source": [
    "#p2p_KNN = knn_query_normals(m0_rem.vertlist, m2_rem.vertlist,\n",
    "#                                            m0_rem.vertex_normals, m2_rem.vertex_normals,\n",
    "#                                            k_base=20, n_jobs=20, verbose=False)\n",
    "p2p_KNN = knn_query(m0_rem.vertlist, m2_rem.vertlist)"
   ]
  },
  {
   "cell_type": "code",
   "execution_count": null,
   "metadata": {},
   "outputs": [],
   "source": [
    "plot_mesh(m0_rem, color=np.mean(m0_rem.vertices,axis=1))\n",
    "plot_mesh(m2_rem, color=np.mean(m0_rem.vertices,axis=1)[p2p_KNN])"
   ]
  },
  {
   "cell_type": "markdown",
   "metadata": {},
   "source": [
    "ZOOMOUT"
   ]
  },
  {
   "cell_type": "code",
   "execution_count": null,
   "metadata": {},
   "outputs": [],
   "source": [
    "import pyFM.spectral as spectral\n",
    "from pyFM.FMN import FMN\n",
    "import pyFM"
   ]
  },
  {
   "cell_type": "code",
   "execution_count": null,
   "metadata": {},
   "outputs": [],
   "source": [
    "from pyFM.refine.zoomout import mesh_zoomout_refine_p2p"
   ]
  },
  {
   "cell_type": "markdown",
   "metadata": {},
   "source": [
    "Calculate the Laplacian basis"
   ]
  },
  {
   "cell_type": "code",
   "execution_count": null,
   "metadata": {},
   "outputs": [],
   "source": [
    "m0_rem.process(k=150,intrinsic=True)\n",
    "m2_rem.process(k=150,intrinsic=True)"
   ]
  },
  {
   "cell_type": "markdown",
   "metadata": {},
   "source": [
    "Apply ZoomOut"
   ]
  },
  {
   "cell_type": "code",
   "execution_count": null,
   "metadata": {},
   "outputs": [],
   "source": [
    "# apply zoomout starting from the Knn initialization\n",
    "FM_12_zo, p2p_ZO = mesh_zoomout_refine_p2p(p2p_21=p2p_KNN, mesh1=m0_rem, mesh2=m2_rem, k_init=20, nit=26, step=5, return_p2p=True, n_jobs=10, verbose=True)\n",
    "\n",
    "plot_mesh(m0_rem,color=np.mean(m0_rem.vertices,axis=1))\n",
    "plot_mesh(m2_rem,color=np.mean(m0_rem.vertices,axis=1)[p2p_ZO])"
   ]
  },
  {
   "cell_type": "markdown",
   "metadata": {},
   "source": [
    "Import original meshes"
   ]
  },
  {
   "cell_type": "code",
   "execution_count": null,
   "metadata": {},
   "outputs": [],
   "source": [
    "#1 min e 11 sec.\n",
    "import trimesh\n",
    "#Number of meshes to import:\n",
    "N_meshes= 3\n",
    "meshlist=[]\n",
    "for i in range(N_meshes):\n",
    "    meshlist.append(TriMesh(fr'D:\\Make_Galileo_great_again\\data\\giorgio_\\0000{i:02d}_tumoredbrain\\0000{i:02d}_tumoredbrain.off')) \n",
    "    mesh= trimesh.Trimesh(meshlist[i].vertices, meshlist[i].faces)\n",
    "    components = mesh.split(only_watertight=False)\n",
    "    largest_component = max(components, key=lambda comp: comp.volume) \n",
    "    print(f\"Number of vertices before LC for mesh{i:02d}:\", meshlist[i].vertices.shape)\n",
    "    #meshlist[i]= TriMesh(largest_component.vertices, largest_component.faces).process(k=200, intrinsic=True)\n",
    "    #print(f\"Number of vertices after LC for mesh{i:02d}:\", meshlist[i].vertices.shape)\n"
   ]
  },
  {
   "cell_type": "markdown",
   "metadata": {},
   "source": [
    "Correspondence with upscaled FMap + Transferring function\n"
   ]
  },
  {
   "cell_type": "code",
   "execution_count": null,
   "metadata": {},
   "outputs": [],
   "source": [
    "p2p_RM = spectral.FM_to_p2p(FM_12_zo, bm_list[0] @ m0_rem.eigenvectors, bm_list[2] @ m2_rem.eigenvectors, n_jobs=10)"
   ]
  },
  {
   "cell_type": "markdown",
   "metadata": {},
   "source": [
    "Plot"
   ]
  },
  {
   "cell_type": "code",
   "execution_count": null,
   "metadata": {},
   "outputs": [],
   "source": [
    "plot_mesh(meshlist[0],color=np.mean(meshlist[0].vertices,axis=1))\n",
    "plot_mesh(meshlist[2],color=np.mean(meshlist[0].vertices,axis=1)[p2p_RM])"
   ]
  },
  {
   "cell_type": "markdown",
   "metadata": {},
   "source": [
    "## Rematching with FunctionalMaps"
   ]
  },
  {
   "cell_type": "markdown",
   "metadata": {},
   "source": [
    "### ICP"
   ]
  },
  {
   "cell_type": "code",
   "execution_count": null,
   "metadata": {},
   "outputs": [],
   "source": [
    "subsample_list = np.zeros((3, 10), dtype=int)\n",
    "for i in tqdm(range(3)):\n",
    "    subsample_list[i] = meshlist[i].extract_fps(10, geodesic=False, verbose=False)\n",
    "fps1 = subsample_list[0]\n",
    "fps2 = subsample_list[2]"
   ]
  },
  {
   "cell_type": "code",
   "execution_count": null,
   "metadata": {},
   "outputs": [],
   "source": [
    "# Get initial correspondences with KNN\n",
    "p2p_21_init_sub = knn_query_normals(meshlist[0].vertlist[fps1], meshlist[2].vertlist[fps2],\n",
    "                                            meshlist[0].vertex_normals[fps1], meshlist[2].vertex_normals[fps2],\n",
    "                                            k_base=5, n_jobs=20, verbose=False)\n",
    "# ICP Align the shape\n",
    "_, R, t = icp_align(meshlist[2].vertlist[fps2], meshlist[0].vertlist[fps1],\n",
    "                            p2p_12=p2p_21_init_sub,\n",
    "                            return_params=True, n_jobs=20, epsilon=1e-4, verbose=False)\n",
    "\n",
    "meshlist[2].rotate(R)\n",
    "meshlist[2].translate(t)\n"
   ]
  },
  {
   "cell_type": "markdown",
   "metadata": {},
   "source": [
    "### Rematching"
   ]
  },
  {
   "cell_type": "code",
   "execution_count": null,
   "metadata": {},
   "outputs": [],
   "source": [
    "rem_list_tri=[m0_rem, m1_rem, m2_rem]\n",
    "\n",
    "SRC=0\n",
    "TRG=2\n"
   ]
  },
  {
   "cell_type": "code",
   "execution_count": null,
   "metadata": {},
   "outputs": [],
   "source": [
    "subsample_list = np.zeros((3, 10), dtype=int)\n",
    "for i in tqdm(range(3)):\n",
    "    subsample_list[i] = rem_list_tri[i].extract_fps(10, geodesic=False, verbose=False)"
   ]
  },
  {
   "cell_type": "markdown",
   "metadata": {},
   "source": [
    "KNN"
   ]
  },
  {
   "cell_type": "code",
   "execution_count": null,
   "metadata": {},
   "outputs": [],
   "source": [
    "fps2 = knn_query(rem_list_tri[TRG].vertlist, rem_list_tri[SRC].vertlist[subsample_list[SRC]])\n",
    "\n",
    "landmarks=np.array([subsample_list[SRC],fps2]).T"
   ]
  },
  {
   "cell_type": "markdown",
   "metadata": {},
   "source": [
    "### Functional Maps"
   ]
  },
  {
   "cell_type": "code",
   "execution_count": null,
   "metadata": {},
   "outputs": [],
   "source": [
    "from pyFM.functional import FunctionalMapping\n",
    "\n",
    "process_params = {\n",
    "        'n_ev': (20,20),  # Number of eigenvalues on source and Target\n",
    "        'landmarks': landmarks,\n",
    "        'subsample_step': 1,  # In order not to use too many descriptors\n",
    "        'n_descr': 40, #number of descriptors\n",
    "        'descr_type': 'HKS',  # WKS or HKS\n",
    "    }\n",
    "model = FunctionalMapping(rem_list_tri[SRC],rem_list_tri[TRG])\n",
    "model.preprocess(**process_params,verbose=False)\n",
    "\n",
    "model.fit(w_descr= 1e-1, w_lap= 1e-3, w_dcomm= 1,w_orient= 0, verbose=False)\n",
    "fmap12=model.FM       #C{XY}, or A_{YX}^T\n",
    "\n",
    "#p2p=model.get_p2p(fmap12, model.mesh1.eigenvectors[:,:k],model.mesh2.eigenvectors[:,:k],adj, bijective)\n",
    "p2p=model.get_p2p()\n"
   ]
  },
  {
   "cell_type": "code",
   "execution_count": null,
   "metadata": {},
   "outputs": [],
   "source": [
    "import matplotlib.pyplot as plt\n",
    "plt.imshow(fmap12)"
   ]
  },
  {
   "cell_type": "code",
   "execution_count": null,
   "metadata": {},
   "outputs": [],
   "source": [
    "#cmap1 = np.mean(visu(rem_list_tri[SRC].vertlist),axis=1)\n",
    "#cmap2_wks = cmap1[p2p]\n",
    "\n",
    "plot_mesh(rem_list_tri[SRC],color=np.mean(rem_list_tri[SRC].vertices,axis=1))\n",
    "plot_mesh(rem_list_tri[TRG],color=np.mean(rem_list_tri[SRC].vertices,axis=1)[p2p])"
   ]
  },
  {
   "cell_type": "code",
   "execution_count": null,
   "metadata": {},
   "outputs": [],
   "source": [
    "#zoomout\n",
    "from pyFM.refine.zoomout import mesh_zoomout_refine_p2p\n",
    "FM_12_hks_zo, p2p_21_hks_zo = mesh_zoomout_refine_p2p(p2p_21=p2p, mesh1=rem_list_tri[SRC], mesh2=rem_list_tri[TRG], k_init=20, nit=16, step=5, return_p2p=True, n_jobs=10, verbose=True)\n",
    "\n",
    "#cmap1 = np.mean(visu(rem_list_tri[SRC].vertlist),axis=1)\n",
    "#cmap2_wks = cmap1[p2p_21_wks_zo]\n",
    "\n",
    "\n",
    "plot_mesh(rem_list_tri[SRC],color=np.mean(rem_list_tri[SRC].vertices,axis=1))\n",
    "plot_mesh(rem_list_tri[TRG],color=np.mean(rem_list_tri[SRC].vertices,axis=1)[p2p_21_hks_zo])"
   ]
  },
  {
   "cell_type": "code",
   "execution_count": null,
   "metadata": {},
   "outputs": [],
   "source": [
    "plt.imshow(FM_12_hks_zo)"
   ]
  },
  {
   "cell_type": "code",
   "execution_count": null,
   "metadata": {},
   "outputs": [],
   "source": [
    "p2p_ZO_RM = spectral.FM_to_p2p(FM_12_hks_zo, bm_list[SRC] @ rem_list_tri[SRC].eigenvectors, bm_list[TRG] @ rem_list_tri[TRG].eigenvectors, n_jobs=10)"
   ]
  },
  {
   "cell_type": "code",
   "execution_count": null,
   "metadata": {},
   "outputs": [],
   "source": [
    "plot_mesh(meshlist[SRC],color=np.mean(meshlist[SRC].vertices,axis=1))\n",
    "plot_mesh(meshlist[TRG],color=np.mean(meshlist[SRC].vertices,axis=1)[p2p_ZO_RM])"
   ]
  }
 ],
 "metadata": {
  "kernelspec": {
   "display_name": "Python 3",
   "language": "python",
   "name": "python3"
  },
  "language_info": {
   "codemirror_mode": {
    "name": "ipython",
    "version": 3
   },
   "file_extension": ".py",
   "mimetype": "text/x-python",
   "name": "python",
   "nbconvert_exporter": "python",
   "pygments_lexer": "ipython3",
   "version": "3.11.9"
  }
 },
 "nbformat": 4,
 "nbformat_minor": 2
}
