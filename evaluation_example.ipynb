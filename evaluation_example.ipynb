{
 "cells": [
  {
   "cell_type": "code",
   "execution_count": 1,
   "metadata": {},
   "outputs": [],
   "source": [
    "from evaluation import *\n",
    "import numpy as np\n",
    "import scipy as sp\n",
    "import trimesh\n",
    "import potpourri3d as pp3d"
   ]
  },
  {
   "cell_type": "code",
   "execution_count": 2,
   "metadata": {},
   "outputs": [],
   "source": [
    "mesh = trimesh.load('../datasets/FAUST_learning_ini/tr_reg_093.off',process=False)\n",
    "mesh2 = trimesh.load('../datasets/FAUST_learning_ini/tr_reg_080.off',process=False)\n",
    "v1=mesh.vertices\n",
    "v2=mesh2.vertices"
   ]
  },
  {
   "cell_type": "code",
   "execution_count": 3,
   "metadata": {},
   "outputs": [],
   "source": [
    "#load permutation\n",
    "pi=np.loadtxt('../datasets/FAUST_learning_ini/zoomOut/tr_reg_093_tr_reg_080.map').astype(np.int32)-1"
   ]
  },
  {
   "cell_type": "code",
   "execution_count": 4,
   "metadata": {},
   "outputs": [
    {
     "name": "stdout",
     "output_type": "stream",
     "text": [
      "Chamfer Distance Bidirectional: 0.0036200475314546047\n",
      "Chamfer Distance x->y: 0.0\n",
      "Chamfer Distance y->x: 0.0036200475314546047\n",
      "Hausdorf Distance Bidirectional: 0.03283535106408135\n",
      "Hausdorf Distance x->y: 0.0\n",
      "Hausdorf Distance y->x: 0.03283535106408135\n"
     ]
    }
   ],
   "source": [
    "print('Chamfer Distance Bidirectional: '+str(chamfer_distance(v2[pi],v2)))\n",
    "print('Chamfer Distance x->y: '+str(chamfer_distance(v2[pi],v2, direction='x_to_y')))\n",
    "print('Chamfer Distance y->x: '+str(chamfer_distance(v2[pi],v2, direction='y_to_x')))\n",
    "\n",
    "\n",
    "print('Hausdorf Distance Bidirectional: '+str(hausdorff_distance(v2[pi],v2)))\n",
    "print('Hausdorf Distance x->y: '+str(hausdorff_distance(v2[pi],v2, direction='x_to_y')))\n",
    "print('Hausdorf Distance y->x: '+str(hausdorff_distance(v2[pi],v2, direction='y_to_x')))\n",
    "\n",
    "#NOTE: if we compare the target shape and the permutation of the target shape one direction of these distances will always be zero\n"
   ]
  },
  {
   "cell_type": "code",
   "execution_count": 5,
   "metadata": {},
   "outputs": [],
   "source": [
    "#continuity\n",
    "solver=pp3d.MeshHeatMethodDistanceSolver(v2,mesh2.faces)\n",
    "dist2=[]\n",
    "for i in range(v2.shape[0]):\n",
    "    dist2.append(solver.compute_distance(i))\n",
    "\n",
    "dist2=np.array(dist2)\n",
    "\n",
    "solver=pp3d.MeshHeatMethodDistanceSolver(v1,mesh.faces)\n",
    "dist1=[]\n",
    "for i in range(v1.shape[0]):\n",
    "    dist1.append(solver.compute_distance(i))\n",
    "\n",
    "dist1=np.array(dist1)\n",
    "\n",
    "\n",
    "print('Continuity: '+str(continuity(pi, dist2, dist1, mesh.edges)))"
   ]
  },
  {
   "cell_type": "code",
   "execution_count": 33,
   "metadata": {},
   "outputs": [],
   "source": [
    "#coverage\n",
    "\n",
    "def compute_vertex_areas(mesh):\n",
    "    \"\"\"\n",
    "    Compute the area associated with each vertex in a triangular mesh.\n",
    "    \n",
    "    Parameters\n",
    "    ----------\n",
    "    mesh: trimesh.Trimesh\n",
    "        The input triangular mesh.\n",
    "    \n",
    "    Returns\n",
    "    -------\n",
    "    vertex_areas: numpy array of shape (n_vertices,)\n",
    "        The area attributed to each vertex.\n",
    "    \"\"\"\n",
    "    # Initialize an array to hold the area for each vertex\n",
    "    vertex_areas = np.zeros((len(mesh.vertices),))\n",
    "    \n",
    "    # Calculate the area of each face\n",
    "    face_areas = mesh.area_faces\n",
    "    \n",
    "    # For each face, distribute its area equally among its three vertices\n",
    "    for i, face in enumerate(mesh.faces):\n",
    "        area_contribution = face_areas[i] / 3.0\n",
    "        vertex_areas[face] += area_contribution\n",
    "    \n",
    "    return vertex_areas\n",
    "\n",
    "A1=compute_vertex_areas(mesh)\n",
    "A2=compute_vertex_areas(mesh2)"
   ]
  },
  {
   "cell_type": "code",
   "execution_count": 38,
   "metadata": {},
   "outputs": [
    {
     "name": "stdout",
     "output_type": "stream",
     "text": [
      "0.7939880599048275\n"
     ]
    }
   ],
   "source": [
    "print('Coverage:'+str(coverage(pi,A2)))"
   ]
  }
 ],
 "metadata": {
  "kernelspec": {
   "display_name": "sdfenv",
   "language": "python",
   "name": "python3"
  },
  "language_info": {
   "codemirror_mode": {
    "name": "ipython",
    "version": 3
   },
   "file_extension": ".py",
   "mimetype": "text/x-python",
   "name": "python",
   "nbconvert_exporter": "python",
   "pygments_lexer": "ipython3",
   "version": "3.9.12"
  }
 },
 "nbformat": 4,
 "nbformat_minor": 2
}
