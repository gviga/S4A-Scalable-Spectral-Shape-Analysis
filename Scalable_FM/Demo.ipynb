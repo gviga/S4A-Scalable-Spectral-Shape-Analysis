{
 "cells": [
  {
   "cell_type": "code",
   "execution_count": 7,
   "id": "6ba85917",
   "metadata": {
    "ExecuteTime": {
     "end_time": "2023-06-07T16:42:58.835991Z",
     "start_time": "2023-06-07T16:42:57.756529Z"
    }
   },
   "outputs": [],
   "source": [
    "\n",
    "import sys, os\n",
    "sys.path.append('./pyFM/')  # My code builds on the pyFM.mesh.TriMesh class\n",
    "sys.path.append('./VisualizationTools/') # This is just for visualization purposes\n"
   ]
  },
  {
   "cell_type": "code",
   "execution_count": 8,
   "id": "916bb569",
   "metadata": {
    "ExecuteTime": {
     "end_time": "2023-06-07T16:43:00.196971Z",
     "start_time": "2023-06-07T16:42:58.838711Z"
    }
   },
   "outputs": [],
   "source": [
    "import large_mesh as lmu\n",
    "import VisualizationTools as plu\n",
    "\n",
    "from pyFM.mesh import TriMesh"
   ]
  },
  {
   "cell_type": "markdown",
   "id": "836ae698",
   "metadata": {},
   "source": [
    "# 1 - Computing the approximate spectrum for a dense mesh"
   ]
  },
  {
   "cell_type": "code",
   "execution_count": 4,
   "id": "190f43cb",
   "metadata": {
    "ExecuteTime": {
     "end_time": "2023-06-07T16:43:53.030893Z",
     "start_time": "2023-06-07T16:43:51.710503Z"
    }
   },
   "outputs": [
    {
     "data": {
      "text/plain": [
       "95642"
      ]
     },
     "execution_count": 4,
     "metadata": {},
     "output_type": "execute_result"
    }
   ],
   "source": [
    "# Load mesh, normalize and center for simplicity\n",
    "mesh1 = TriMesh(\"./data/40.off\",area_normalize=True, center=True).process(k=0, intrinsic=True)\n",
    "mesh1.n_vertices"
   ]
  },
  {
   "cell_type": "code",
   "execution_count": 5,
   "id": "8ecc8e52",
   "metadata": {
    "ExecuteTime": {
     "end_time": "2023-06-07T16:44:11.363256Z",
     "start_time": "2023-06-07T16:44:11.284827Z"
    }
   },
   "outputs": [
    {
     "name": "stdout",
     "output_type": "stream",
     "text": [
      "\n",
      "    Build matrices U, A_bar; W_bar and distance matrix\n",
      "\n",
      "    Parameters:\n",
      "    ----------------------\n",
      "    mesh1         : pyFM.TriMesh object with n vertices\n",
      "    n_samples     : number of samples\n",
      "    dist_ratio    : rho = dist_ratio * average_radius\n",
      "    update_sample : whether to add unseen vertices to the sample\n",
      "    interpolation : 'poly', 'linear', 'exp' - type of local function\n",
      "    correct_dist  : If True, Replace dijkstra dist with euclidean after dijkstra\n",
      "    return_dist   : If True, return the sparse distance matrix\n",
      "    adapt_radius  : Whether to use the adaptive radius sttrategy\n",
      "    self_limit    : Minimum value for self weight\n",
      "    batch_size    : Size of batches to use\n",
      "    n_clusters    : Number of cluster to use to first divide the shape (memory issues)\n",
      "    n_jobs        : number of parallel workers to use\n",
      "\n",
      "    Output\n",
      "    ----------------------\n",
      "    U : (n,p) sparse local functions at each columns\n",
      "    A_bar : U^T A U\n",
      "    W_bar : U^T W U\n",
      "    subsample : indices of sampled points\n",
      "    distmat : if return_dist is True, the sparse distance matrix (before applying local function)\n",
      "    \n"
     ]
    }
   ],
   "source": [
    "# Define parameters for the process\n",
    "process_params = {\n",
    "    'dist_ratio': 3, # rho = dist_ratio * average_radius\n",
    "    'self_limit': .25,  # Minimum value for self weight\n",
    "    'correct_dist': False,\n",
    "    'interpolation': 'poly',\n",
    "    'return_dist': True,\n",
    "    'adapt_radius': True,\n",
    "    'n_jobs':10,\n",
    "    'n_clusters': 100,\n",
    "    'verbose': True\n",
    "}\n",
    "\n",
    "n_samples = 2000\n",
    "\n",
    "# Check the docstring for the meaning of each parameter\n",
    "print(lmu.process_mesh.__doc__)"
   ]
  },
  {
   "cell_type": "code",
   "execution_count": 6,
   "id": "b9bb2c7e",
   "metadata": {
    "ExecuteTime": {
     "end_time": "2023-06-07T16:44:14.170489Z",
     "start_time": "2023-06-07T16:44:11.579780Z"
    }
   },
   "outputs": [
    {
     "name": "stdout",
     "output_type": "stream",
     "text": [
      "Sampling 2000 vertices out of 95642...\n",
      "\t2912 samples extracted in 0.79s\n",
      "Computing First Dijkstra run...\n"
     ]
    },
    {
     "data": {
      "application/vnd.jupyter.widget-view+json": {
       "model_id": "29d9ff33554f4994a0ed89e9e6a06415",
       "version_major": 2,
       "version_minor": 0
      },
      "text/plain": [
       "  0%|          | 0/100 [00:00<?, ?it/s]"
      ]
     },
     "metadata": {},
     "output_type": "display_data"
    },
    {
     "name": "stdout",
     "output_type": "stream",
     "text": [
      "\tDone in 3.79s\n",
      "\n",
      "Update sampled points\n",
      "0 vertices have been added to the sample\n",
      "\n",
      "Update radius :\n",
      "Iteration 1 : Modifying 6 sampled points\n",
      "\tRecomputing 1136 values\n",
      "\n",
      "Iteration 2 : Modifying 2 sampled points\n",
      "\tRecomputing 372 values\n",
      "\n",
      "Removed 1250 values\n",
      "Nonzero elements :\n",
      "\tMean : 7.57 +- 1.20\n",
      "\tMin : 1\tMax: 12\n",
      "Computing 150 eigenvectors\n",
      "\tDone in 17.93 s\n"
     ]
    }
   ],
   "source": [
    "# Computes the approximate spectrum, Wb is used for \\overline{W} and Ab for \\overline{A}\n",
    "# Evects1 are values at samples of sub1, distmat1 is the distance matrix\n",
    "# Dense N1 x K eigenvector matrix can be obtained with U1 @ evects1\n",
    "U1, Ab1, Wb1, sub1, distmat1 = lmu.process_mesh(mesh1, n_samples, **process_params)\n",
    "evals1, evects1 = lmu.get_approx_spectrum(Wb1, Ab1, verbose=True)"
   ]
  },
  {
   "cell_type": "code",
   "execution_count": 9,
   "id": "9716eb68",
   "metadata": {
    "ExecuteTime": {
     "end_time": "2023-06-07T16:44:14.322745Z",
     "start_time": "2023-06-07T16:44:14.253815Z"
    }
   },
   "outputs": [
    {
     "ename": "AttributeError",
     "evalue": "module 'VisualizationTools' has no attribute 'plot'",
     "output_type": "error",
     "traceback": [
      "\u001b[0;31m---------------------------------------------------------------------------\u001b[0m",
      "\u001b[0;31mAttributeError\u001b[0m                            Traceback (most recent call last)",
      "Cell \u001b[0;32mIn[9], line 2\u001b[0m\n\u001b[1;32m      1\u001b[0m \u001b[38;5;66;03m# Visualize the spectrum as values at the samples of sub1\u001b[39;00m\n\u001b[0;32m----> 2\u001b[0m \u001b[43mplu\u001b[49m\u001b[38;5;241;43m.\u001b[39;49m\u001b[43mplot\u001b[49m(mesh1, points\u001b[38;5;241m=\u001b[39msub1, cmap_p\u001b[38;5;241m=\u001b[39mevects1[:,\u001b[38;5;241m1\u001b[39m], colormap\u001b[38;5;241m=\u001b[39m\u001b[38;5;124m\"\u001b[39m\u001b[38;5;124mcoolwarm\u001b[39m\u001b[38;5;124m\"\u001b[39m)\n",
      "\u001b[0;31mAttributeError\u001b[0m: module 'VisualizationTools' has no attribute 'plot'"
     ]
    }
   ],
   "source": [
    "# Visualize the spectrum as values at the samples of sub1\n",
    "plu.plot(mesh1, points=sub1, cmap_p=evects1[:,1], colormap=\"coolwarm\")"
   ]
  },
  {
   "cell_type": "code",
   "execution_count": null,
   "id": "8dc938a9",
   "metadata": {},
   "outputs": [],
   "source": [
    "# You can also check the \"dense\" eigenvector\n",
    "plu.plot(mesh1, cmap=U1 @ evects1[:,1], colormap=\"coolwarm\")"
   ]
  },
  {
   "cell_type": "markdown",
   "id": "4c59ebcd",
   "metadata": {},
   "source": [
    "# 2 - Shape Matching using approximate spectrum"
   ]
  },
  {
   "cell_type": "code",
   "execution_count": 11,
   "id": "5438c826",
   "metadata": {},
   "outputs": [],
   "source": [
    "# Let's first load the meshes\n",
    "\n",
    "mesh1 = TriMesh(\"./data/13.off\",area_normalize=True, center=True).process(k=0, intrinsic=True)\n",
    "mesh2 = TriMesh(\"./data/42.off\",area_normalize=True, center=True).process(k=0, intrinsic=True)\n",
    "\n",
    "#plu.double_plot(mesh1, mesh2)"
   ]
  },
  {
   "cell_type": "code",
   "execution_count": 12,
   "id": "1584cb85",
   "metadata": {},
   "outputs": [],
   "source": [
    "# Define parameters for the process\n",
    "process_params = {\n",
    "    'dist_ratio': 3, # rho = dist_ratio * average_radius\n",
    "    'self_limit': .25,  # Minimum value for self weight\n",
    "    'correct_dist': False,\n",
    "    'interpolation': 'poly',\n",
    "    'return_dist': True,\n",
    "    'adapt_radius': True,\n",
    "    'n_jobs':10,\n",
    "    'n_clusters': 100,\n",
    "    'verbose': False\n",
    "}\n",
    "\n",
    "n_samples = 2000"
   ]
  },
  {
   "cell_type": "code",
   "execution_count": 13,
   "id": "1114b069",
   "metadata": {},
   "outputs": [
    {
     "name": "stdout",
     "output_type": "stream",
     "text": [
      "Computing 150 eigenvectors\n",
      "\tDone in 14.80 s\n",
      "Computing 150 eigenvectors\n",
      "\tDone in 18.48 s\n"
     ]
    }
   ],
   "source": [
    "U1, Ab1, Wb1, sub1, distmat1 = lmu.process_mesh(mesh1, n_samples, **process_params)\n",
    "evals1, evects1 = lmu.get_approx_spectrum(Wb1, Ab1, verbose=True)\n",
    "\n",
    "U2, Ab2, Wb2, sub2, distmat2 = lmu.process_mesh(mesh2, n_samples, **process_params)\n",
    "evals2, evects2 = lmu.get_approx_spectrum(Wb2, Ab2, verbose=True)"
   ]
  },
  {
   "cell_type": "code",
   "execution_count": 14,
   "id": "2a0cba03",
   "metadata": {},
   "outputs": [],
   "source": [
    "import pyFM.spectral as spectral\n",
    "from pyFM.spectral.nn_utils import knn_query\n",
    "from pyFM.refine.zoomout import zoomout_refine\n",
    "\n",
    "import matplotlib.pyplot as plt"
   ]
  },
  {
   "cell_type": "code",
   "execution_count": 15,
   "id": "1582cde8",
   "metadata": {},
   "outputs": [
    {
     "data": {
      "text/plain": [
       "<matplotlib.image.AxesImage at 0x777e9c5eb700>"
      ]
     },
     "execution_count": 15,
     "metadata": {},
     "output_type": "execute_result"
    },
    {
     "data": {
      "image/png": "[encoded data removed]",
      "text/plain": [
       "<Figure size 640x480 with 1 Axes>"
      ]
     },
     "metadata": {},
     "output_type": "display_data"
    }
   ],
   "source": [
    "# Compute an initial approximate functional map\n",
    "p2p_21_sub_init = knn_query(mesh1.vertices[sub1], mesh2.vertices[sub2], k=1, n_jobs=10)\n",
    "# We compute the initial functional map using the approximate spectrum here (same method that will be used inside ZoomOut)\n",
    "FM_12_init = spectral.p2p_to_FM(p2p_21_sub_init, evects1[:,:20], evects2[:,:20], A2=Ab2)\n",
    "\n",
    "plt.imshow(FM_12_init, cmap='coolwarm')"
   ]
  },
  {
   "cell_type": "code",
   "execution_count": 16,
   "id": "27e2e5c2",
   "metadata": {},
   "outputs": [
    {
     "data": {
      "application/vnd.jupyter.widget-view+json": {
       "model_id": "a49ff465a76846b68429f80cb900fae6",
       "version_major": 2,
       "version_minor": 0
      },
      "text/plain": [
       "  0%|          | 0/16 [00:00<?, ?it/s]"
      ]
     },
     "metadata": {},
     "output_type": "display_data"
    }
   ],
   "source": [
    "# You can perform ZoomOut like if you had resampled the whole mesh. This gives you a funcitonal map and a point-to-point map between the two samples (not the whole meshes)\n",
    "FM_12_zo, p2p_21_sub_zo = zoomout_refine(FM_12_init, evects1, evects2, nit=16, step=5, A2=Ab2, return_p2p=True, n_jobs=10, verbose=True)"
   ]
  },
  {
   "cell_type": "code",
   "execution_count": 17,
   "id": "72373a38",
   "metadata": {},
   "outputs": [],
   "source": [
    "# If you need a dense point-to-point map, you can use FM_12_zo as the functional map between the dense shapes. If needed, an accelerated version of this is described in the paper, but I found that its implementation is very machine-dependant.\n",
    "p2p_21_zo = spectral.FM_to_p2p(FM_12_zo, U1@evects1, U2@evects2, n_jobs=10)"
   ]
  },
  {
   "cell_type": "code",
   "execution_count": null,
   "id": "ef6e8a20",
   "metadata": {},
   "outputs": [],
   "source": [
    "plu.plot_p2p(mesh1, mesh2, p2p_21_zo, pretty=True)"
   ]
  }
 ],
 "metadata": {
  "kernelspec": {
   "display_name": "Python 3 (ipykernel)",
   "language": "python",
   "name": "python3"
  },
  "language_info": {
   "codemirror_mode": {
    "name": "ipython",
    "version": 3
   },
   "file_extension": ".py",
   "mimetype": "text/x-python",
   "name": "python",
   "nbconvert_exporter": "python",
   "pygments_lexer": "ipython3",
   "version": "3.10.12"
  },
  "toc": {
   "base_numbering": 1,
   "nav_menu": {},
   "number_sections": true,
   "sideBar": true,
   "skip_h1_title": false,
   "title_cell": "Table of Contents",
   "title_sidebar": "Contents",
   "toc_cell": false,
   "toc_position": {},
   "toc_section_display": true,
   "toc_window_display": false
  }
 },
 "nbformat": 4,
 "nbformat_minor": 5
}
