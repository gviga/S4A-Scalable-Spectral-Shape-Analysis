{
 "cells": [
  {
   "cell_type": "code",
   "execution_count": 1,
   "metadata": {},
   "outputs": [],
   "source": [
    "import igl\n",
    "import numpy as np\n",
    "from scipy.io import savemat\n",
    "import os\n",
    "import sys\n",
    "\n",
    "\n",
    "sys.path.append('../')\n",
    "from utils.visual_utils import *\n",
    "from utils.icp_utils import *\n",
    "\n",
    "#from evaluation import *\n"
   ]
  },
  {
   "cell_type": "code",
   "execution_count": 2,
   "metadata": {},
   "outputs": [
    {
     "name": "stdout",
     "output_type": "stream",
     "text": [
      "000000_tumoredbrain/000000_tumoredbrain.off\n",
      "000001_tumoredbrain/000001_tumoredbrain.off\n",
      "000002_tumoredbrain/000002_tumoredbrain.off\n",
      "000003_tumoredbrain/000003_tumoredbrain.off\n",
      "000004_tumoredbrain/000004_tumoredbrain.off\n",
      "000005_tumoredbrain/000005_tumoredbrain.off\n",
      "000006_tumoredbrain/000006_tumoredbrain.off\n",
      "000007_tumoredbrain/000007_tumoredbrain.off\n",
      "000008_tumoredbrain/000008_tumoredbrain.off\n",
      "000009_tumoredbrain/000009_tumoredbrain.off\n"
     ]
    }
   ],
   "source": [
    "import sys\n",
    "\n",
    "sys.path.append(r'D:/Make_Galileo_great_again')\n",
    "from utils.Morpho import *\n",
    "\n",
    "sys.path.append('./pyFM/')\n",
    "\n",
    "import os\n",
    "import numpy as np\n",
    "import matplotlib.pyplot as plt\n",
    "import scipy\n",
    "import itertools\n",
    "import copy\n",
    "\n",
    "import networkx as nx\n",
    "\n",
    "import pyFM.spectral as spectral\n",
    "from pyFM.mesh import TriMesh\n",
    "from pyFM.FMN import FMN\n",
    "\n",
    "from tqdm.auto import tqdm\n",
    "import seaborn as sns\n",
    "\n",
    "\n",
    "SamplesDir = r\"../data/giorgio_\"\n",
    "maps_dict={}\n",
    "N_meshes=10\n",
    "\n",
    "m_list= []\n",
    "m_rem_list= []\n",
    "bm_list= []\n",
    "\n",
    "#meshes in Trimesh\n",
    "meshlist= []\n",
    "rem_list_tri = []\n",
    "\n",
    "#Dictionary where Fun Maps are stored.\n",
    "maps_dict = {}\n",
    "\n",
    "for i in range(N_meshes):\n",
    "    \n",
    "    PATH = os.path.join(SamplesDir, \"remeshed\", fr\"0000{i:02d}_tumoredbrain.off\")\n",
    "    print(fr\"0000{i:02d}_tumoredbrain/0000{i:02d}_tumoredbrain.off\")\n",
    "    PATH_hr = os.path.join(SamplesDir, fr\"0000{i:02d}_tumoredbrain/0000{i:02d}_tumoredbrain.off\")\n",
    "    PATH_bm = os.path.join(SamplesDir, \"bm\", fr\"bm{i:02d}.mat\")\n",
    "\n",
    "    if os.path.exists(PATH):\n",
    "\n",
    "        rem_list_tri.append(TriMesh(PATH, area_normalize=True, center= True).process(k=110, intrinsic=True))\n",
    "        meshlist.append(TriMesh(PATH_hr, area_normalize=True, center= True))\n",
    "    #print(\"Mesh\" , i, \"loaded\")\n",
    "\n",
    "target_hr = TriMesh(r'../data/giorgio_/MNI.off', area_normalize=True, center= True)\n",
    "meshlist.append(target_hr)\n",
    "target_re = TriMesh(r'../data/giorgio_/MNI_remesh.off', area_normalize=True, center= True).process(k=110, intrinsic=True)\n",
    "rem_list_tri.append(target_re)\n",
    "\n",
    "#for i in range (N_meshes):\n",
    "#    PATH_SAVE= os.path.join(SamplesDir, fr\"FM\\fmap12{i:02d}.npy\")\n",
    "#    FM_12_hks_zo=np.load(PATH_SAVE)\n",
    "#    maps_dict[3,i]= FM_12_hks_zo.copy()\n",
    "#    maps_dict[i,3]= FM_12_hks_zo.T\n",
    "\n"
   ]
  },
  {
   "cell_type": "code",
   "execution_count": 3,
   "metadata": {},
   "outputs": [
    {
     "name": "stdout",
     "output_type": "stream",
     "text": [
      "45 possible pairs\n"
     ]
    }
   ],
   "source": [
    "n_chosen_pairs = 200  # Number of pairs to select in the network\n",
    "k_init = 20  # Initial size of functional maps. We recommand around 20 but because of the double surface we need 50\n",
    "n_subsample = 3000 # Number of samples to use for initial maps\n",
    "\n",
    "print(f'{int(scipy.special.binom(N_meshes, 2)):d} possible pairs')"
   ]
  },
  {
   "cell_type": "code",
   "execution_count": 4,
   "metadata": {},
   "outputs": [
    {
     "name": "stdout",
     "output_type": "stream",
     "text": [
      "Is G connected ? True\n",
      "G has 10 nodes and 45 edges\n",
      "G has 120 3-cycles\n"
     ]
    }
   ],
   "source": [
    "rng = np.random.default_rng()\n",
    "\n",
    "all_pairs = list(itertools.combinations(np.arange(N_meshes), 2))\n",
    "rng.shuffle(all_pairs)\n",
    "\n",
    "chosen_pairs = all_pairs[:n_chosen_pairs]\n",
    "\n",
    "G = nx.Graph()\n",
    "G.add_nodes_from(np.arange(N_meshes))\n",
    "G.add_edges_from(chosen_pairs)\n",
    "\n",
    "\n",
    "print(f'Is G connected ? {nx.is_connected(G)}')\n",
    "all_cliques= nx.enumerate_all_cliques(G)\n",
    "triad_cliques=[x for x in all_cliques if len(x)==3 ]\n",
    "print(f'G has {G.number_of_nodes()} nodes and {G.number_of_edges()} edges')\n",
    "print(f'G has {len(triad_cliques)} 3-cycles')"
   ]
  },
  {
   "cell_type": "code",
   "execution_count": null,
   "metadata": {},
   "outputs": [],
   "source": []
  },
  {
   "cell_type": "code",
   "execution_count": 6,
   "metadata": {},
   "outputs": [
    {
     "data": {
      "application/vnd.jupyter.widget-view+json": {
       "model_id": "a0d50a1590304539943a98c35eb7d71e",
       "version_major": 2,
       "version_minor": 0
      },
      "text/plain": [
       "  0%|          | 0/10 [00:00<?, ?it/s]"
      ]
     },
     "metadata": {},
     "output_type": "display_data"
    },
    {
     "name": "stdout",
     "output_type": "stream",
     "text": [
      "0\n",
      "1\n",
      "2\n",
      "3\n",
      "4\n",
      "5\n",
      "6\n",
      "7\n",
      "8\n",
      "9\n"
     ]
    }
   ],
   "source": [
    "subsample_list = np.zeros((N_meshes, n_subsample), dtype=int)\n",
    "for i in tqdm(range(N_meshes)):\n",
    "    print(i)\n",
    "    subsample_list[i] = rem_list_tri[i].extract_fps(n_subsample, geodesic=False, verbose=False)\n",
    "    "
   ]
  },
  {
   "cell_type": "code",
   "execution_count": 7,
   "metadata": {},
   "outputs": [
    {
     "data": {
      "application/vnd.jupyter.widget-view+json": {
       "model_id": "04844939cc5644338f6f7bd628c1faab",
       "version_major": 2,
       "version_minor": 0
      },
      "text/plain": [
       "  0%|          | 0/45 [00:00<?, ?it/s]"
      ]
     },
     "metadata": {},
     "output_type": "display_data"
    },
    {
     "name": "stdout",
     "output_type": "stream",
     "text": [
      "90 maps computed\n"
     ]
    }
   ],
   "source": [
    "maps_dict = {}\n",
    "\n",
    "for pair_ind, (i, j) in enumerate(tqdm(chosen_pairs)):\n",
    "    \n",
    "    \n",
    "    fps1 = subsample_list[i]\n",
    "    fps2 = subsample_list[j]\n",
    "    \n",
    "       \n",
    "\n",
    "    mesh1 = copy.deepcopy(rem_list_tri[i])\n",
    "    mesh2 = copy.deepcopy(rem_list_tri[j])\n",
    "\n",
    "    # Get initial correspondences\n",
    "    p2p_21_init_sub = knn_query_normals(mesh1.vertlist[fps1], mesh2.vertlist[fps2],\n",
    "                                                mesh1.vertex_normals[fps1], mesh2.vertex_normals[fps2],\n",
    "                                                k_base=20, n_jobs=10, verbose=False)\n",
    "    \n",
    "    # ICP Align the shape\n",
    "    _, R, t = icp_align(mesh2.vertlist[fps2], mesh1.vertlist[fps1],\n",
    "                                p2p_12=p2p_21_init_sub,\n",
    "                                return_params=True, n_jobs=10, epsilon=1e-4, verbose=False)\n",
    "\n",
    "    mesh2.rotate(R)\n",
    "    mesh2.translate(t)\n",
    "    \n",
    "    # Get final correspondences\n",
    "    p2p_21 = knn_query_normals(mesh1.vertlist[fps1], mesh2.vertlist[fps2],\n",
    "                                        mesh1.vertex_normals[fps1], mesh2.vertex_normals[fps2],\n",
    "                                        k_base=20, n_jobs=10)\n",
    "    \n",
    "    p2p_12 = knn_query_normals(mesh2.vertlist[fps2], mesh1.vertlist[fps1],\n",
    "                                        mesh2.vertex_normals[fps2], mesh1.vertex_normals[fps1],\n",
    "                                        k_base=20, n_jobs=10)\n",
    "        \n",
    "    # Compute initial functional maps\n",
    "    FM_12 = spectral.mesh_p2p_to_FM(p2p_21, rem_list_tri[i], rem_list_tri[j], dims=k_init, subsample=(fps1, fps2))\n",
    "    FM_21 = spectral.mesh_p2p_to_FM(p2p_12, rem_list_tri[j], rem_list_tri[i], dims=k_init, subsample=(fps2, fps1))\n",
    "    maps_dict[(i,j)] = FM_12.copy();\n",
    "    maps_dict[(j,i)] = FM_21.copy();\n",
    "    \n",
    "print(f'{len(maps_dict.keys())} maps computed');\n"
   ]
  },
  {
   "cell_type": "code",
   "execution_count": 8,
   "metadata": {},
   "outputs": [
    {
     "name": "stdout",
     "output_type": "stream",
     "text": [
      "Setting 90 edges on 10 nodes.\n"
     ]
    }
   ],
   "source": [
    "network = FMN(rem_list_tri[:N_meshes], maps_dict=maps_dict)"
   ]
  },
  {
   "cell_type": "code",
   "execution_count": 9,
   "metadata": {},
   "outputs": [
    {
     "data": {
      "application/vnd.jupyter.widget-view+json": {
       "model_id": "11c9b858e6e044729eab987b82a4e7a8",
       "version_major": 2,
       "version_minor": 0
      },
      "text/plain": [
       "  0%|          | 0/17 [00:00<?, ?it/s]"
      ]
     },
     "metadata": {},
     "output_type": "display_data"
    }
   ],
   "source": [
    "czo_parameters = {\n",
    "    'nit': (110-k_init)//5,\n",
    "    'step': 5,\n",
    "    'cclb_ratio': .8,\n",
    "    'subsample': subsample_list,\n",
    "    'isometric': False,\n",
    "    'verbose': True,\n",
    "    'weight_type': 'iscm',\n",
    "    'n_jobs': 15,\n",
    "}\n",
    "\n",
    "\n",
    "network.zoomout_refine(**czo_parameters)\n"
   ]
  },
  {
   "cell_type": "code",
   "execution_count": 10,
   "metadata": {},
   "outputs": [
    {
     "name": "stdout",
     "output_type": "stream",
     "text": [
      "Computing 105 CLB eigenvectors...\n",
      "\tDone in 0.3s\n"
     ]
    },
    {
     "data": {
      "text/plain": [
       "<pyFM.FMN.FMN.FMN at 0x76d0a88f3e20>"
      ]
     },
     "execution_count": 10,
     "metadata": {},
     "output_type": "execute_result"
    }
   ],
   "source": [
    "network.compute_W(M=105)\n",
    "network.compute_CCLB(int(.8*network.M), verbose=True)"
   ]
  },
  {
   "cell_type": "code",
   "execution_count": 11,
   "metadata": {},
   "outputs": [],
   "source": [
    "network.cclb_eigenvalues[:,None][0]=0"
   ]
  },
  {
   "cell_type": "code",
   "execution_count": 12,
   "metadata": {},
   "outputs": [
    {
     "data": {
      "text/plain": [
       "(8, 8)"
      ]
     },
     "execution_count": 12,
     "metadata": {},
     "output_type": "execute_result"
    }
   ],
   "source": [
    "deviation_from_id_a = np.zeros(network.n_meshes)\n",
    "deviation_from_id_cr = np.zeros(network.n_meshes)\n",
    "for i in range(network.n_meshes):\n",
    "    CSD_a, CSD_c = network.get_CSD(i)\n",
    "    deviation_from_id_a[i] = np.linalg.norm(CSD_a - np.eye(CSD_a.shape[0]))\n",
    "    deviation_from_id_cr[i] = np.linalg.norm(np.sqrt(network.cclb_eigenvalues[:,None]) * (CSD_c - np.eye(CSD_c.shape[0]))) / np.sqrt(network.cclb_eigenvalues.sum())\n",
    "\n",
    "    \n",
    "deviation_from_id_cr.argmin(), deviation_from_id_cr.argmin()\n"
   ]
  },
  {
   "cell_type": "code",
   "execution_count": 13,
   "metadata": {},
   "outputs": [],
   "source": [
    "base_meshind = deviation_from_id_cr.argmin()"
   ]
  },
  {
   "cell_type": "code",
   "execution_count": 14,
   "metadata": {},
   "outputs": [],
   "source": [
    "k_displacement = 100\n",
    "backend = 'gpu' # OR \"cpu\n",
    "from pyFM.FMN import FMN"
   ]
  },
  {
   "cell_type": "code",
   "execution_count": 16,
   "metadata": {},
   "outputs": [
    {
     "data": {
      "application/vnd.jupyter.widget-view+json": {
       "model_id": "5a53ac91c4d0489b8184ff2f79a3cad6",
       "version_major": 2,
       "version_minor": 0
      },
      "text/plain": [
       "  0%|          | 0/10 [00:00<?, ?it/s]"
      ]
     },
     "metadata": {},
     "output_type": "display_data"
    },
    {
     "name": "stdout",
     "output_type": "stream",
     "text": [
      "\n"
     ]
    }
   ],
   "source": [
    "import pyFM\n",
    "mesh1 = copy.deepcopy(network.meshlist[base_meshind]) # TriMesh(network.meshlist[base_meshind].path, area_normalize=True).process(k=k_displacement,verbose=True)\n",
    "LB_1 = network.get_LB(base_meshind, complete=True)  # (n_1',m)\n",
    "\n",
    "displacements = np.zeros((network.n_meshes, 3*mesh1.n_vertices))\n",
    "displacements_red = np.zeros((network.n_meshes, 3*k_displacement))\n",
    "\n",
    "for meshind2 in tqdm(range(network.n_meshes)):\n",
    "    if meshind2 == base_meshind:\n",
    "        continue\n",
    "    \n",
    "    mesh2 = copy.deepcopy(network.meshlist[meshind2])\n",
    "    LB_2 = network.get_LB(meshind2, complete=True)  # (n_2',m)\n",
    "    \n",
    "    #p2p_czo_12 = knn_query(torch.from_numpy(LB_2.astype(np.float32)).cuda(), torch.from_numpy(LB_1.astype(np.float32)).cuda(), backend=backend).cpu().numpy()\n",
    "\n",
    "    p2p_czo_12 = knn_query(LB_2.astype(np.float32), LB_1.astype(np.float32))\n",
    "\n",
    "    R, t = rigid_alignment(mesh1.vertlist, mesh2.vertlist, p2p_12=p2p_czo_12,\n",
    "                                 return_params=True, return_deformed=False, weights=mesh1.vertex_areas)\n",
    "    \n",
    "    \n",
    "    mesh2 = TriMesh(mesh2.vertlist, mesh2.facelist)\n",
    "    mesh2.translate(-t)\n",
    "    mesh2.rotate(np.linalg.inv(R))\n",
    "    \n",
    "    tau_czo = mesh1.project(mesh2.vertlist[p2p_czo_12] - mesh1.vertlist, k=k_displacement)\n",
    "    \n",
    "    displacements[meshind2] = mesh1.decode(tau_czo).flatten()\n",
    "    displacements_red[meshind2] = tau_czo.flatten()\n",
    "print('');"
   ]
  },
  {
   "cell_type": "code",
   "execution_count": 17,
   "metadata": {},
   "outputs": [],
   "source": [
    "from sklearn.linear_model import LogisticRegression\n",
    "\n",
    "from sklearn.model_selection import train_test_split\n",
    "\n",
    "from sklearn.decomposition import PCA"
   ]
  },
  {
   "cell_type": "code",
   "execution_count": 18,
   "metadata": {},
   "outputs": [
    {
     "data": {
      "image/png": "[encoded data removed]",
      "text/plain": [
       "<Figure size 960x720 with 1 Axes>"
      ]
     },
     "metadata": {},
     "output_type": "display_data"
    }
   ],
   "source": [
    "avg_disp = np.mean(displacements,axis=0)\n",
    "pca_d = PCA(n_components=5)\n",
    "emb_d_red = pca_d.fit_transform(displacements - avg_disp[None,:])\n",
    "\n",
    "plt.figure(dpi=150)\n",
    "plt.title('Explained variance ratio')\n",
    "plt.xlabel('Number of components')\n",
    "plt.ylabel('Explained variance (%)')\n",
    "plt.plot(np.arange(1+pca_d.n_components) , 100*np.cumsum(np.concatenate([[0],pca_d.explained_variance_ratio_])), marker=\".\");"
   ]
  },
  {
   "cell_type": "code",
   "execution_count": 19,
   "metadata": {},
   "outputs": [],
   "source": [
    "labels = [1,2] # list of labels for each skulls\n",
    "labels = np.asarray(labels)"
   ]
  },
  {
   "cell_type": "code",
   "execution_count": 20,
   "metadata": {},
   "outputs": [],
   "source": [
    "\n",
    "reglin1 = LogisticRegression(penalty=None, fit_intercept=True, max_iter=1000)"
   ]
  },
  {
   "cell_type": "code",
   "execution_count": 21,
   "metadata": {},
   "outputs": [
    {
     "ename": "TypeError",
     "evalue": "LogisticRegression.fit() missing 1 required positional argument: 'y'",
     "output_type": "error",
     "traceback": [
      "\u001b[0;31m---------------------------------------------------------------------------\u001b[0m",
      "\u001b[0;31mTypeError\u001b[0m                                 Traceback (most recent call last)",
      "Cell \u001b[0;32mIn[21], line 1\u001b[0m\n\u001b[0;32m----> 1\u001b[0m \u001b[43mreglin1\u001b[49m\u001b[38;5;241;43m.\u001b[39;49m\u001b[43mfit\u001b[49m\u001b[43m(\u001b[49m\u001b[43mlabels\u001b[49m\u001b[43m)\u001b[49m\n",
      "File \u001b[0;32m~/NRP/venv/lib/python3.10/site-packages/sklearn/base.py:1473\u001b[0m, in \u001b[0;36m_fit_context.<locals>.decorator.<locals>.wrapper\u001b[0;34m(estimator, *args, **kwargs)\u001b[0m\n\u001b[1;32m   1466\u001b[0m     estimator\u001b[38;5;241m.\u001b[39m_validate_params()\n\u001b[1;32m   1468\u001b[0m \u001b[38;5;28;01mwith\u001b[39;00m config_context(\n\u001b[1;32m   1469\u001b[0m     skip_parameter_validation\u001b[38;5;241m=\u001b[39m(\n\u001b[1;32m   1470\u001b[0m         prefer_skip_nested_validation \u001b[38;5;129;01mor\u001b[39;00m global_skip_validation\n\u001b[1;32m   1471\u001b[0m     )\n\u001b[1;32m   1472\u001b[0m ):\n\u001b[0;32m-> 1473\u001b[0m     \u001b[38;5;28;01mreturn\u001b[39;00m \u001b[43mfit_method\u001b[49m\u001b[43m(\u001b[49m\u001b[43mestimator\u001b[49m\u001b[43m,\u001b[49m\u001b[43m \u001b[49m\u001b[38;5;241;43m*\u001b[39;49m\u001b[43margs\u001b[49m\u001b[43m,\u001b[49m\u001b[43m \u001b[49m\u001b[38;5;241;43m*\u001b[39;49m\u001b[38;5;241;43m*\u001b[39;49m\u001b[43mkwargs\u001b[49m\u001b[43m)\u001b[49m\n",
      "\u001b[0;31mTypeError\u001b[0m: LogisticRegression.fit() missing 1 required positional argument: 'y'"
     ]
    }
   ],
   "source": [
    "reglin1.fit(labels)"
   ]
  },
  {
   "cell_type": "markdown",
   "metadata": {},
   "source": [
    "# SCALABLE\n"
   ]
  },
  {
   "cell_type": "markdown",
   "metadata": {},
   "source": [
    "we have computed the CCLB ifor the low-resolution shapes. We want to project them in the high resolution space"
   ]
  },
  {
   "cell_type": "code",
   "execution_count": 48,
   "metadata": {},
   "outputs": [],
   "source": [
    "\n"
   ]
  },
  {
   "cell_type": "code",
   "execution_count": 25,
   "metadata": {},
   "outputs": [
    {
     "data": {
      "application/vnd.jupyter.widget-view+json": {
       "model_id": "4180b3bd88bb429c8514b2e309550bf2",
       "version_major": 2,
       "version_minor": 0
      },
      "text/plain": [
       "  0%|          | 0/10 [00:00<?, ?it/s]"
      ]
     },
     "metadata": {},
     "output_type": "display_data"
    },
    {
     "name": "stdout",
     "output_type": "stream",
     "text": [
      "\n"
     ]
    }
   ],
   "source": [
    "\n",
    "bm_list=[]\n",
    "for i in range(N_meshes):\n",
    "    PATH_bm = os.path.join(SamplesDir, \"bm\", fr\"bm{i:02d}.mat\")\n",
    "    if os.path.exists(PATH_bm):\n",
    "        bm_list.append(scipy.io.loadmat(PATH_bm))\n",
    "\n",
    "\n",
    "    #print(\"Mesh\" , i, \"loaded\")\n",
    "import pyFM\n",
    "\n",
    "\n",
    "\n",
    "mesh1=meshlist[base_meshind]\n",
    "mesh1.eigenvectors=bm_list[base_meshind]['U']@network.meshlist[base_meshind].eigenvectors\n",
    "\n",
    "LB_1 = network.get_LB(base_meshind, complete=True)  # (n_1',m)\n",
    "LB_1_hr=bm_list[base_meshind]['U']@LB_1\n",
    "\n",
    "\n",
    "displacements_H = np.zeros((network.n_meshes, 3*mesh1.n_vertices))\n",
    "displacements_red_H = np.zeros((network.n_meshes, 3*k_displacement))\n",
    "\n",
    "for meshind2 in tqdm(range(network.n_meshes)):\n",
    "    if meshind2 == base_meshind:\n",
    "        continue\n",
    "    \n",
    "    \n",
    "    mesh2=meshlist[meshind2]\n",
    "    LB_2 = network.get_LB(meshind2, complete=True)  # (n_1',m)\n",
    "    LB_2_hr=bm_list[meshind2]['U']@LB_2\n",
    "\n",
    "    #p2p_czo_12 = knn_query(torch.from_numpy(LB_2.astype(np.float32)).cuda(), torch.from_numpy(LB_1.astype(np.float32)).cuda(), backend=backend).cpu().numpy()\n",
    "\n",
    "    p2p_czo_12 = knn_query(LB_2_hr.astype(np.float32), LB_1_hr.astype(np.float32))\n",
    "\n",
    "    R, t = rigid_alignment(mesh1.vertlist, mesh2.vertlist, p2p_12=p2p_czo_12,\n",
    "                                 return_params=True, return_deformed=False, weights=mesh1.vertex_areas)\n",
    "    \n",
    "    \n",
    "    mesh2 = TriMesh(mesh2.vertlist, mesh2.facelist)\n",
    "    mesh2.translate(-t)\n",
    "    mesh2.rotate(np.linalg.inv(R))\n",
    "    \n",
    "    tau_czo_H = np.linalg.pinv(mesh1.eigenvectors[:,:k_displacement])@(mesh2.vertlist[p2p_czo_12] - mesh1.vertlist)\n",
    "    \n",
    "    displacements_H[meshind2] = (mesh1.eigenvectors[:,:k_displacement]@tau_czo_H).flatten()# mesh1.decode(tau_czo).flatten()\n",
    "    displacements_red_H[meshind2] = tau_czo.flatten()\n",
    "print('')"
   ]
  },
  {
   "cell_type": "code",
   "execution_count": null,
   "metadata": {},
   "outputs": [],
   "source": [
    "#######################FILIPPOS###################à\n",
    "bm_list=[]\n",
    "for i in range(N_meshes):\n",
    "    PATH_bm = os.path.join(SamplesDir, \"bm\", fr\"bm{i:02d}.mat\")\n",
    "    if os.path.exists(PATH_bm):\n",
    "        bm_list.append(scipy.io.loadmat(PATH_bm))\n",
    "\n",
    "\n",
    "    #print(\"Mesh\" , i, \"loaded\")\n",
    "import pyFM\n",
    "\n",
    "mesh1 = copy.deepcopy(network.meshlist[base_meshind]) # TriMesh(network.meshlist[base_meshind].path, area_normalize=True).process(k=k_displacement,verbose=True)\n",
    "LB_1 = network.get_LB(base_meshind, complete=True)  # (n_1',m)\n",
    "\n",
    "meshlist[base_meshind].eigenvectors=bm_list[base_meshind]['U']@network.meshlist[base_meshind].eigenvectors\n",
    "\n",
    "displacements_H = np.zeros((network.n_meshes, 3*mesh1.n_vertices))\n",
    "displacements_red_H = np.zeros((network.n_meshes, 3*k_displacement))\n",
    "mesh1_eigenvectors_H=bm_list[base_meshind]['U']@network.meshlist[base_meshind].eigenvectors\n",
    "\n",
    "for meshind2 in tqdm(range(network.n_meshes)):\n",
    "    if meshind2 == base_meshind:\n",
    "        continue\n",
    "    \n",
    "    \n",
    "    mesh2 = copy.deepcopy(network.meshlist[meshind2]) # TriMesh(network.meshlist[base_meshind].path, area_normalize=True).process(k=k_displacement,verbose=True)\n",
    "    LB_2 = network.get_LB(meshind2, complete=True)  # (n_1',m)\n",
    "\n",
    "    #p2p_czo_12 = knn_query(torch.from_numpy(LB_2.astype(np.float32)).cuda(), torch.from_numpy(LB_1.astype(np.float32)).cuda(), backend=backend).cpu().numpy()\n",
    "\n",
    "    p2p_czo_12 = knn_query(LB_2.astype(np.float32), LB_1.astype(np.float32))\n",
    "\n",
    "    #BACK TO FMAP\n",
    "    fmap=mesh1.eigenvectors.T@mesh1.A@ (mesh2.eigenvectors[p2p_czo_12])\n",
    "\n",
    "    p2p_czo_12_h = knn_query(bm_list[meshind2]['U']@mesh2.eigenvectors.astype(np.float32)@fmap, bm_list[base_meshind]['U']@mesh1.eigenvectors.astype(np.float32))\n",
    "\n",
    "\n",
    "    R, t = rigid_alignment(meshlist[base_meshind].vertlist, meshlist[meshind2].vertlist, p2p_12=p2p_czo_12_h,\n",
    "                                 return_params=True, return_deformed=False, weights=mesh1.vertex_areas)\n",
    "    \n",
    "\n",
    "    mesh2 = TriMesh( meshlist[meshind2].vertlist,  meshlist[meshind2].facelist)\n",
    "    mesh2.translate(-t)\n",
    "    mesh2.rotate(np.linalg.inv(R))\n",
    "    \n",
    "    \n",
    "    tau_czo_H = np.linalg.pinv(meshlist[base_meshind].eigenvectors[:,:k_displacement])@(meshlist[meshind2].vertlist[p2p_czo_12] - meshlist[base_meshind].vertlist)\n",
    "    \n",
    "    displacements_H[meshind2] =(meshlist[base_meshind].eigenvectors[:,:k_displacement]@tau_czo_H).flatten()# mesh1.decode(tau_czo).flatten()\n",
    "    displacements_red_H[meshind2] = tau_czo.flatten()\n",
    "    \n",
    "print('')"
   ]
  },
  {
   "cell_type": "code",
   "execution_count": 26,
   "metadata": {},
   "outputs": [
    {
     "data": {
      "image/png": "[encoded data removed]",
      "text/plain": [
       "<Figure size 960x720 with 1 Axes>"
      ]
     },
     "metadata": {},
     "output_type": "display_data"
    }
   ],
   "source": [
    "avg_disp = np.mean(displacements,axis=0)\n",
    "pca_d = PCA(n_components=5)\n",
    "emb_d_red = pca_d.fit_transform(displacements - avg_disp[None,:])\n",
    "\n",
    "plt.figure(dpi=150)\n",
    "plt.title('Explained variance ratio')\n",
    "plt.xlabel('Number of components')\n",
    "plt.ylabel('Explained variance (%)')\n",
    "plt.plot(np.arange(1+pca_d.n_components) , 100*np.cumsum(np.concatenate([[0],pca_d.explained_variance_ratio_])), marker=\".\");"
   ]
  }
 ],
 "metadata": {
  "kernelspec": {
   "display_name": "venv",
   "language": "python",
   "name": "python3"
  },
  "language_info": {
   "codemirror_mode": {
    "name": "ipython",
    "version": 3
   },
   "file_extension": ".py",
   "mimetype": "text/x-python",
   "name": "python",
   "nbconvert_exporter": "python",
   "pygments_lexer": "ipython3",
   "version": "3.10.12"
  }
 },
 "nbformat": 4,
 "nbformat_minor": 2
}
